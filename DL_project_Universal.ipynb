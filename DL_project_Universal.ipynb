{
  "nbformat": 4,
  "nbformat_minor": 0,
  "metadata": {
    "colab": {
      "provenance": []
    },
    "kernelspec": {
      "name": "python3",
      "display_name": "Python 3"
    },
    "language_info": {
      "name": "python"
    }
  },
  "cells": [
    {
      "cell_type": "code",
      "execution_count": null,
      "metadata": {
        "id": "Uvsq1Uok8IRW",
        "collapsed": true
      },
      "outputs": [],
      "source": [
        "from google.colab import drive\n",
        "drive.mount('/content/gdrive')\n",
        "!rm -rf ./sample_data/\n",
        "\n",
        "## Get source code\n",
        "!git clone https://github.com/ivan-fan-dk/DL-final-project.git\n",
        "!mv DL-final-project/* ./\n",
        "!rm -rf DL-final-project\n",
        "!echo \"Finished cloning source code.\"\n",
        "\n",
        "# Install requirements, will ask you to restart seesion\n",
        "!pip3 install -q -r requirements.txt"
      ]
    },
    {
      "cell_type": "code",
      "source": [
        "Q1 = input(\"What's your model? \\n(1) 3GB \\n(2) 3GB w/ SEBottleNeck \\n(3) 3GB w/ SEBottleNeck w/ augmentation \\n(4) 94MB \\n(5) 94MB w/ SE\\n(6) 3GB w/ augmentation \\n\")\n",
        "if Q1 == \"1\":\n",
        "    suffix = \"3GB\"\n",
        "    datadownloader = \"sample_raw_data_downloader.sh\"\n",
        "    datafolder = \"DL_Sample_Data\"\n",
        "    trainfile = \"train.py\"\n",
        "    testfile = \"test.py\"\n",
        "elif Q1 == \"2\":\n",
        "    suffix = \"3GB_SE\"\n",
        "    datadownloader = \"sample_raw_data_downloader.sh\"\n",
        "    datafolder = \"DL_Sample_Data\"\n",
        "    trainfile = \"se_train.py\"\n",
        "    testfile = \"test_se.py\"\n",
        "elif Q1 == \"3\":\n",
        "    suffix = \"3GB_SE_Aug\"\n",
        "    datadownloader = \"sample_raw_data_downloader.sh\"\n",
        "    datafolder = \"DL_Sample_Data\"\n",
        "    trainfile = \"se_aug_train.py\"\n",
        "    testfile = \"test_se.py\"\n",
        "elif Q1 == \"4\":\n",
        "    suffix = \"94MB\"\n",
        "    datadownloader = \"mini_raw_data_downloader.sh\"\n",
        "    datafolder = \"DL_Mini_Data\"\n",
        "    trainfile = \"train.py\"\n",
        "    testfile = \"test.py\"\n",
        "elif Q1 == \"5\":\n",
        "    suffix = \"94MB_SE\"\n",
        "    datadownloader = \"mini_raw_data_downloader.sh\"\n",
        "    datafolder = \"DL_Mini_Data\"\n",
        "    trainfile = \"se_train.py\"\n",
        "    testfile = \"test_se.py\"\n",
        "elif Q1 == \"6\":\n",
        "    suffix = \"3GB_Aug\"\n",
        "    datadownloader = \"sample_raw_data_downloader.sh\"\n",
        "    datafolder = \"DL_Sample_Data\"\n",
        "    trainfile = \"aug_train.py\"\n",
        "    testfile = \"test.py\"\n",
        "else:\n",
        "    ValueError(\"Invalid input\")\n",
        "\n",
        "print(f\"Selected model: {suffix}\")"
      ],
      "metadata": {
        "id": "ein-_Fe71iWW"
      },
      "execution_count": null,
      "outputs": []
    },
    {
      "cell_type": "code",
      "source": [
        "# Installing... (Run either \"Installing...\" or \"Loading...\". Run this one only if you don't have the data in Google Drive, else run \"Loading...\")\n",
        "prompt = input(\"Install data to Google Drive (1) or just import from Google Drive (2)? \")\n",
        "if prompt == \"1\":\n",
        "    ## Make dir in Google Drive\n",
        "    !rm -rf /content/gdrive/MyDrive/{datafolder}/\n",
        "    !mkdir /content/gdrive/MyDrive/{datafolder}/\n",
        "\n",
        "    ## Start downloading\n",
        "    !chmod +x ./*.sh\n",
        "    !./{datadownloader}    # either !./sample_raw_data_downloader.sh or !./raw_data_downloader.sh\n",
        "elif prompt != \"2\":\n",
        "    ValueError(\"Invalid input\")\n",
        "\n",
        "# Copy data from Google Drive to Google Colab\n",
        "!echo \"Copying data from Google Drive to Google Colab...\"\n",
        "!rm -rf ./{datafolder}/\n",
        "!cp -r /content/gdrive/MyDrive/{datafolder}/ .\n",
        "!echo \"Finished copying data from Google Drive to Google Colab.\"\n",
        "\n",
        "# Datasize\n",
        "!du -sh ./{datafolder}"
      ],
      "metadata": {
        "id": "du6TBTZI1tBq"
      },
      "execution_count": null,
      "outputs": []
    },
    {
      "cell_type": "code",
      "source": [
        "# Train model (LONG TIME)\n",
        "## data preparation\n",
        "!rm -rf ./formatted/\n",
        "!mkdir formatted\n",
        "!python3 data/prepare_train_data.py ./{datafolder}/ --dataset-format 'kitti_raw' --dump-root ./formatted/data/ --width 416 --height 128 --num-threads 4\n",
        "\n",
        "## train\n",
        "!python3 {trainfile} ./formatted/data/ -b4 -m0.2 -s0.1 --epochs 200 --sequence-length 3 --log-output\n",
        "\n",
        "# Save checkpoints to your Google Drive\n",
        "!zip -r checkpoints_{suffix}.zip ./checkpoints/\n",
        "!mv checkpoints_{suffix}.zip gdrive/MyDrive/\n",
        "!echo \"Saved checkpoints_{suffix}.zip in Google Drive.\""
      ],
      "metadata": {
        "id": "YnCvnU1ftsia",
        "collapsed": true
      },
      "execution_count": null,
      "outputs": []
    },
    {
      "cell_type": "code",
      "source": [
        "# (Optional) Import checkpoints from Google Drive\n",
        "!cp gdrive/MyDrive/checkpoints_{suffix}.zip .\n",
        "!unzip -o checkpoints_{suffix}.zip"
      ],
      "metadata": {
        "id": "HrPRoXTM9OLv"
      },
      "execution_count": null,
      "outputs": []
    },
    {
      "cell_type": "code",
      "source": [
        "# You can change the name of the checkpoints folder here.\n",
        "selected_checkpoints = f\"checkpoints\"\n",
        "%reload_ext tensorboard\n",
        "%tensorboard --logdir={selected_checkpoints}"
      ],
      "metadata": {
        "id": "PQq8cMtKRAuB"
      },
      "execution_count": null,
      "outputs": []
    },
    {
      "cell_type": "code",
      "source": [
        "import glob\n",
        "!rm -rf ./inference_{suffix}/\n",
        "!rm -rf ./hist_{suffix}/\n",
        "\n",
        "# If this gives \"IndexError: list index out of range\" then the following code cannot find the file \"dispnet_model_best.pth.tar\". Type it manually.\n",
        "dispnet_model_best_path = glob.glob(f\"{selected_checkpoints}/**/dispnet_model_best.pth.tar\", recursive=True)[0]\n",
        "!python3 {testfile} --pretrained {dispnet_model_best_path} --dataset-dir ./test_images/ --output-dir ./inference_{suffix}/ --output-hist-dir ./hist_{suffix}/ --output-depth"
      ],
      "metadata": {
        "id": "M6dM2Zd7moJ1",
        "collapsed": true
      },
      "execution_count": null,
      "outputs": []
    },
    {
      "cell_type": "code",
      "source": [
        "# Save results as zip files in Google Drive\n",
        "!cp -r ./hist_{suffix}/ gdrive/MyDrive/\n",
        "!echo \"Saved hist_{suffix} in Google Drive.\"\n",
        "!cp -r ./inference_{suffix}/ gdrive/MyDrive/\n",
        "!echo \"Saved inference_{suffix} in Google Drive.\""
      ],
      "metadata": {
        "id": "V7N_rmogmZau"
      },
      "execution_count": null,
      "outputs": []
    },
    {
      "cell_type": "code",
      "source": [],
      "metadata": {
        "id": "LFOnTfvZpCD6"
      },
      "execution_count": null,
      "outputs": []
    }
  ]
}